{
 "cells": [
  {
   "cell_type": "code",
   "execution_count": 3,
   "id": "dd06b102-f243-4b29-8b5c-a6a8a34138a4",
   "metadata": {},
   "outputs": [],
   "source": [
    "import sqlite3\n",
    "conn = sqlite3.connect(\"sales_data.db\")\n",
    "cur = conn.cursor()\n",
    "cur.execute(\"\"\"\n",
    "CREATE TABLE IF NOT EXISTS sales (\n",
    "  id INTEGER PRIMARY KEY AUTOINCREMENT,\n",
    "  date TEXT NOT NULL,\n",
    "  product TEXT NOT NULL,\n",
    "  quantity INTEGER NOT NULL,\n",
    "  price REAL NOT NULL\n",
    ");\n",
    "\"\"\")\n",
    "rows = [\n",
    "  (\"2025-07-01\",\"Laptop\",2,750.00),\n",
    "  (\"2025-07-01\",\"Phone\",3,400.00),\n",
    "  (\"2025-07-02\",\"Headphones\",5,60.00),\n",
    "]\n",
    "cur.executemany(\"INSERT INTO sales(date,product,quantity,price) VALUES (?,?,?,?)\", rows)\n",
    "conn.commit()\n",
    "conn.close()\n"
   ]
  },
  {
   "cell_type": "code",
   "execution_count": 5,
   "id": "841df4fc-8886-4ca6-929e-f41960cf2ea6",
   "metadata": {},
   "outputs": [
    {
     "data": {
      "text/html": [
       "<div>\n",
       "<style scoped>\n",
       "    .dataframe tbody tr th:only-of-type {\n",
       "        vertical-align: middle;\n",
       "    }\n",
       "\n",
       "    .dataframe tbody tr th {\n",
       "        vertical-align: top;\n",
       "    }\n",
       "\n",
       "    .dataframe thead th {\n",
       "        text-align: right;\n",
       "    }\n",
       "</style>\n",
       "<table border=\"1\" class=\"dataframe\">\n",
       "  <thead>\n",
       "    <tr style=\"text-align: right;\">\n",
       "      <th></th>\n",
       "      <th>product</th>\n",
       "      <th>total_qty</th>\n",
       "      <th>revenue</th>\n",
       "    </tr>\n",
       "  </thead>\n",
       "  <tbody>\n",
       "    <tr>\n",
       "      <th>0</th>\n",
       "      <td>Laptop</td>\n",
       "      <td>6</td>\n",
       "      <td>4500.0</td>\n",
       "    </tr>\n",
       "    <tr>\n",
       "      <th>1</th>\n",
       "      <td>Phone</td>\n",
       "      <td>9</td>\n",
       "      <td>3600.0</td>\n",
       "    </tr>\n",
       "    <tr>\n",
       "      <th>2</th>\n",
       "      <td>Headphones</td>\n",
       "      <td>15</td>\n",
       "      <td>900.0</td>\n",
       "    </tr>\n",
       "  </tbody>\n",
       "</table>\n",
       "</div>"
      ],
      "text/plain": [
       "      product  total_qty  revenue\n",
       "0      Laptop          6   4500.0\n",
       "1       Phone          9   3600.0\n",
       "2  Headphones         15    900.0"
      ]
     },
     "execution_count": 5,
     "metadata": {},
     "output_type": "execute_result"
    }
   ],
   "source": [
    "import pandas as pd\n",
    "\n",
    "conn = sqlite3.connect(\"sales_data.db\")\n",
    "query = \"\"\"\n",
    "SELECT product, SUM(quantity) AS total_qty, SUM(quantity*price) AS revenue\n",
    "FROM sales\n",
    "GROUP BY product\n",
    "ORDER BY revenue DESC;\n",
    "\"\"\"\n",
    "df = pd.read_sql_query(query, conn)\n",
    "conn.close()\n",
    "\n",
    "df\n"
   ]
  },
  {
   "cell_type": "code",
   "execution_count": 6,
   "id": "f0ae60ca-3440-43ab-ba14-50200009f6d3",
   "metadata": {},
   "outputs": [
    {
     "data": {
      "image/png": "[encoded data removed]",
      "text/plain": [
       "<Figure size 640x480 with 1 Axes>"
      ]
     },
     "metadata": {},
     "output_type": "display_data"
    }
   ],
   "source": [
    "import matplotlib.pyplot as plt\n",
    "\n",
    "plt.bar(df[\"product\"], df[\"revenue\"])\n",
    "plt.title(\"Revenue by Product\")\n",
    "plt.xlabel(\"Product\")\n",
    "plt.ylabel(\"Revenue\")\n",
    "plt.show()\n"
   ]
  },
  {
   "cell_type": "code",
   "execution_count": null,
   "id": "487ed781-0c05-4458-8e74-839013bf1efa",
   "metadata": {},
   "outputs": [],
   "source": []
  }
 ],
 "metadata": {
  "kernelspec": {
   "display_name": "Python 3 (ipykernel)",
   "language": "python",
   "name": "python3"
  },
  "language_info": {
   "codemirror_mode": {
    "name": "ipython",
    "version": 3
   },
   "file_extension": ".py",
   "mimetype": "text/x-python",
   "name": "python",
   "nbconvert_exporter": "python",
   "pygments_lexer": "ipython3",
   "version": "3.11.9"
  }
 },
 "nbformat": 4,
 "nbformat_minor": 5
}
